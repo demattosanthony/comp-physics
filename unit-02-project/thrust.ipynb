{
 "cells": [
  {
   "cell_type": "markdown",
   "metadata": {},
   "source": [
    "# Unit 02 Project: Curve Fitting/Modeling Rocket Thrust\n",
    "\n",
    "## Purpose/Abstract\n",
    "\n",
    "The purpose of this notebook is to create a function to calculate the Thrust of a rocket at any given time step through curve fitting the data given. After that I will use derivatives and ODE solvers to model the rocket's thrust.\n",
    "\n",
    "## Theoretical Model\n",
    "\n",
    "The formula below is referenced from the research project of Elizabeth Messina and Dr. Aaron Titus about Accunting for Non Constant Thrust in a Model Rocket Simulator. The equation is used to curve fit the data given which will create a model function that will take a time and the curve fit paramters, and output the Thrust. \n",
    "\n",
    "<img src='equation.png' width='400'>\n",
    "\n",
    "To use the ODE solvers you must first take the derivatives of the rockets position and velocity. Those derivaties are defined below:\n",
    "\n",
    "$$\\frac{dx}{dt} = v_x \\qquad \\frac{dy}{dt} = v_y \\qquad \\frac{dz}{dt} = v_z$$\n",
    "\n",
    "$$\\frac{d v_x}{dt} = \\frac{F_{Thrust,x}*cos(theta)}{m} \\qquad \\frac{d v_y}{dt} = \\frac{F_{Thrust,y}*sin(theta)*rocket_{m}*g}{m} \\qquad \\frac{d v_y}{dt} = {0}$$\n"
   ]
  },
  {
   "cell_type": "markdown",
   "metadata": {},
   "source": [
    "## The Code"
   ]
  },
  {
   "cell_type": "code",
   "execution_count": 1,
   "metadata": {},
   "outputs": [
    {
     "data": {
      "text/html": [
       "<div id=\"glowscript\" class=\"glowscript\"></div>"
      ],
      "text/plain": [
       "<IPython.core.display.HTML object>"
      ]
     },
     "metadata": {},
     "output_type": "display_data"
    },
    {
     "data": {
      "application/javascript": [
       "if (typeof Jupyter !== \"undefined\") { window.__context = { glowscript_container: $(\"#glowscript\").removeAttr(\"id\")};}else{ element.textContent = ' ';}"
      ],
      "text/plain": [
       "<IPython.core.display.Javascript object>"
      ]
     },
     "metadata": {},
     "output_type": "display_data"
    }
   ],
   "source": [
    "import pandas as pd\n",
    "import matplotlib.pyplot as plt\n",
    "from scipy.optimize import curve_fit \n",
    "import numpy as np\n",
    "import ode\n",
    "from vpython import *"
   ]
  },
  {
   "cell_type": "code",
   "execution_count": 2,
   "metadata": {},
   "outputs": [
    {
     "data": {
      "text/html": [
       "<div>\n",
       "<style scoped>\n",
       "    .dataframe tbody tr th:only-of-type {\n",
       "        vertical-align: middle;\n",
       "    }\n",
       "\n",
       "    .dataframe tbody tr th {\n",
       "        vertical-align: top;\n",
       "    }\n",
       "\n",
       "    .dataframe thead th {\n",
       "        text-align: right;\n",
       "    }\n",
       "</style>\n",
       "<table border=\"1\" class=\"dataframe\">\n",
       "  <thead>\n",
       "    <tr style=\"text-align: right;\">\n",
       "      <th></th>\n",
       "      <th>t (s)</th>\n",
       "      <th>F (N)</th>\n",
       "    </tr>\n",
       "  </thead>\n",
       "  <tbody>\n",
       "    <tr>\n",
       "      <th>0</th>\n",
       "      <td>0.00</td>\n",
       "      <td>0.521146</td>\n",
       "    </tr>\n",
       "    <tr>\n",
       "      <th>1</th>\n",
       "      <td>0.02</td>\n",
       "      <td>1.096904</td>\n",
       "    </tr>\n",
       "    <tr>\n",
       "      <th>2</th>\n",
       "      <td>0.04</td>\n",
       "      <td>1.854481</td>\n",
       "    </tr>\n",
       "    <tr>\n",
       "      <th>3</th>\n",
       "      <td>0.06</td>\n",
       "      <td>2.763573</td>\n",
       "    </tr>\n",
       "    <tr>\n",
       "      <th>4</th>\n",
       "      <td>0.08</td>\n",
       "      <td>4.218120</td>\n",
       "    </tr>\n",
       "  </tbody>\n",
       "</table>\n",
       "</div>"
      ],
      "text/plain": [
       "   t (s)     F (N)\n",
       "0   0.00  0.521146\n",
       "1   0.02  1.096904\n",
       "2   0.04  1.854481\n",
       "3   0.06  2.763573\n",
       "4   0.08  4.218120"
      ]
     },
     "execution_count": 2,
     "metadata": {},
     "output_type": "execute_result"
    }
   ],
   "source": [
    "df = pd.read_csv('thrust-time-data.txt', sep='\\t')\n",
    "df.head()"
   ]
  },
  {
   "cell_type": "code",
   "execution_count": 3,
   "metadata": {},
   "outputs": [
    {
     "data": {
      "image/png": "[encoded data removed]",
      "text/plain": [
       "<Figure size 720x432 with 1 Axes>"
      ]
     },
     "metadata": {
      "needs_background": "light"
     },
     "output_type": "display_data"
    }
   ],
   "source": [
    "xData = df['t (s)']\n",
    "yData = df['F (N)']\n",
    "\n",
    "plt.figure(figsize=(10,6))\n",
    "plt.plot(xData, yData, 'r.')\n",
    "plt.title('Thrust vs. Time')\n",
    "plt.ylabel('Thrust (N)')\n",
    "plt.xlabel('Time (s)')\n",
    "plt.grid()"
   ]
  },
  {
   "cell_type": "code",
   "execution_count": 5,
   "metadata": {},
   "outputs": [
    {
     "name": "stderr",
     "output_type": "stream",
     "text": [
      "/Users/atitus/opt/anaconda3/envs/phy2200/lib/python3.8/site-packages/pandas/core/arraylike.py:358: RuntimeWarning: overflow encountered in exp\n",
      "  result = getattr(ufunc, method)(*inputs, **kwargs)\n"
     ]
    },
    {
     "data": {
      "image/png": "[encoded data removed]",
      "text/plain": [
       "<Figure size 864x576 with 1 Axes>"
      ]
     },
     "metadata": {
      "needs_background": "light"
     },
     "output_type": "display_data"
    },
    {
     "name": "stdout",
     "output_type": "stream",
     "text": [
      "The sum of the squares of the residuals = 5.305317e+00\n",
      "The curve fit parameters are: 8.545, 176.694, 0.169, 1.154, 4.610, 2010.013, 1.086, 19.941\n"
     ]
    }
   ],
   "source": [
    "model = lambda t,a1,k1,b1,m1,a2,k2,b2,m2: a1*np.exp(-k1*((t-b1)**2)**m1)+a2*np.exp(-k2*((t-b2)**2)**m2)\n",
    "\n",
    "guess = [10,5,0.3,2,1,100,1,1]\n",
    "params, stats = curve_fit(model, xData, yData, p0=guess)\n",
    "\n",
    "# calculate points for the model\n",
    "xmodel = np.linspace(0,2,1000)\n",
    "ymodel = model(xmodel,*params)\n",
    "\n",
    "# create graph\n",
    "fig1 = plt.figure(figsize=(12,8))\n",
    "\n",
    "# plot data and model\n",
    "frame1=fig1.add_axes((.1,.3,.8,.6))\n",
    "plt.plot(xData,yData,'.b') # data\n",
    "plt.plot(xmodel,ymodel,'-r') # best fit model\n",
    "plt.grid()\n",
    "plt.show()\n",
    "\n",
    "#results\n",
    "residuals = model(xData,*params) - yData\n",
    "print(\"The sum of the squares of the residuals = {:e}\".format(np.sum(residuals**2)))\n",
    "print(\"The curve fit parameters are: {:.3f}, {:.3f}, {:.3f}, {:.3f}, {:.3f}, {:.3f}, {:.3f}, {:.3f}\".format(*params))"
   ]
  },
  {
   "cell_type": "code",
   "execution_count": 6,
   "metadata": {},
   "outputs": [
    {
     "data": {
      "text/html": [
       "<div id=\"glowscript\" class=\"glowscript\"></div>"
      ],
      "text/plain": [
       "<IPython.core.display.HTML object>"
      ]
     },
     "metadata": {},
     "output_type": "display_data"
    },
    {
     "data": {
      "application/javascript": [
       "if (typeof Jupyter !== \"undefined\") { window.__context = { glowscript_container: $(\"#glowscript\").removeAttr(\"id\")};}else{ element.textContent = ' ';}"
      ],
      "text/plain": [
       "<IPython.core.display.Javascript object>"
      ]
     },
     "metadata": {},
     "output_type": "display_data"
    }
   ],
   "source": [
    "scene = canvas(title='Rocket')\n",
    "scene.camera.pos = scene.camera.pos+vector(0, 20, -10)\n",
    "scene.autoscale = True\n",
    "\n",
    "rocket = box(pos=vector(0,11.5,0), size=vector(3, 3, 3), color=color.red)\n",
    "rocket.m = .05\n",
    "rocket.v = vec(0,0,0)\n",
    "\n",
    "moon = sphere(pos=vec(0,0,0), radius=10, color=color.white)\n",
    "\n",
    "g = 1.62\n",
    "theta = 70*np.pi/180\n",
    "t = 0\n",
    "dt = 0.01\n",
    "\n",
    "data = np.array([rocket.pos.x,rocket.pos.y,rocket.pos.z,rocket.v.x,rocket.v.y,rocket.v.z])\n",
    "\n",
    "steps = 1000\n",
    "traj = np.zeros((steps,7)) # t,x,y,z\n",
    "\n",
    "def deriv(d,t):\n",
    "    x = d[0]\n",
    "    y = d[1]\n",
    "    z = d[2]\n",
    "    vx = d[3]\n",
    "    vy = d[4]\n",
    "    vz = d[5]\n",
    "    \n",
    "    rates = np.zeros(6)\n",
    "    if t > 2: \n",
    "        Fthrust = 0\n",
    "    else:\n",
    "        Fthrust = model(t,*params)\n",
    "    rates[0] = vx\n",
    "    rates[1] = vy\n",
    "    rates[2] = vz\n",
    "    rates[3] = Fthrust*np.cos(theta)/rocket.m\n",
    "    rates[4] = (Fthrust*np.sin(theta) - rocket.m * g)/rocket.m\n",
    "    rates[5] = 0\n",
    "    return rates\n",
    "\n",
    "scene.pause()\n",
    "\n",
    "for n in range(steps):\n",
    "    rate(100)\n",
    "    data = ode.RK4(deriv,data,t,dt)\n",
    "    rocket.pos = vec(data[0],data[1],data[2])\n",
    "    rocket.v = vec(data[3],data[4],data[5])\n",
    "    \n",
    "    t = t + dt\n",
    "    \n",
    "    traj[n,:] = np.array([t, data[0], data[1], data[2], data[3], data[4], data[5]])\n",
    "\n"
   ]
  },
  {
   "cell_type": "code",
   "execution_count": 7,
   "metadata": {},
   "outputs": [
    {
     "data": {
      "text/plain": [
       "[]"
      ]
     },
     "execution_count": 7,
     "metadata": {},
     "output_type": "execute_result"
    },
    {
     "data": {
      "image/png": "[encoded data removed]",
      "text/plain": [
       "<Figure size 432x288 with 1 Axes>"
      ]
     },
     "metadata": {
      "needs_background": "light"
     },
     "output_type": "display_data"
    }
   ],
   "source": [
    "plt.plot(traj[:,0], traj[:,1], 'r', label='x position')\n",
    "plt.plot(traj[:,0], traj[:,2], 'b', label='y postion')\n",
    "plt.title('Time vs Position')\n",
    "plt.xlabel('Time (s)')\n",
    "plt.ylabel('Position')\n",
    "plt.legend()\n",
    "plt.plot()"
   ]
  },
  {
   "cell_type": "code",
   "execution_count": 10,
   "metadata": {},
   "outputs": [
    {
     "data": {
      "text/plain": [
       "[]"
      ]
     },
     "execution_count": 10,
     "metadata": {},
     "output_type": "execute_result"
    },
    {
     "data": {
      "image/png": "[encoded data removed]",
      "text/plain": [
       "<Figure size 432x288 with 1 Axes>"
      ]
     },
     "metadata": {
      "needs_background": "light"
     },
     "output_type": "display_data"
    }
   ],
   "source": [
    "plt.plot(traj[:,0], traj[:,4], 'b', label='x velocity')\n",
    "plt.plot(traj[:,0], traj[:,5], 'r', label='y velocity')\n",
    "plt.title('Time vs Velocity')\n",
    "plt.xlabel('Time (s)')\n",
    "plt.ylabel('Velocity')\n",
    "plt.legend()\n",
    "plt.plot()"
   ]
  },
  {
   "cell_type": "markdown",
   "metadata": {},
   "source": [
    "## Validation\n",
    "\n",
    "The above vypython model and graphs allow me to belive the model is indeed correct. You can see in both as time goes on the rocket is being thrust into space.\n",
    "\n",
    "The second graph shows the rockets velocity increasing until time step of two seconds, which is where the thrusters are turned off. \n",
    "\n",
    "I was also able to validate the model by changing angle theta, which changes the direction in which the rocket will launch."
   ]
  },
  {
   "cell_type": "code",
   "execution_count": null,
   "metadata": {},
   "outputs": [],
   "source": []
  }
 ],
 "metadata": {
  "kernelspec": {
   "display_name": "Python 3",
   "language": "python",
   "name": "python3"
  },
  "language_info": {
   "codemirror_mode": {
    "name": "ipython",
    "version": 3
   },
   "file_extension": ".py",
   "mimetype": "text/x-python",
   "name": "python",
   "nbconvert_exporter": "python",
   "pygments_lexer": "ipython3",
   "version": "3.8.5"
  }
 },
 "nbformat": 4,
 "nbformat_minor": 4
}
